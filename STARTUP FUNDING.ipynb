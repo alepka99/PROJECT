{
 "cells": [
  {
   "cell_type": "code",
   "execution_count": 3,
   "id": "a7dc81a5",
   "metadata": {},
   "outputs": [],
   "source": [
    "import pandas as pd\n",
    "import numpy as np\n",
    "import seaborn as sns\n",
    "import matplotlib"
   ]
  },
  {
   "cell_type": "code",
   "execution_count": 2,
   "id": "5986e748",
   "metadata": {},
   "outputs": [],
   "source": [
    "file=\"indian_startup_funding_Lab7.xlsx\"\n",
    "df=pd.read_excel(file)\n"
   ]
  },
  {
   "cell_type": "code",
   "execution_count": 3,
   "id": "4eaa6643",
   "metadata": {},
   "outputs": [
    {
     "data": {
      "text/plain": [
       "0"
      ]
     },
     "execution_count": 3,
     "metadata": {},
     "output_type": "execute_result"
    }
   ],
   "source": [
    "df.duplicated(subset=None,keep='first').sum()"
   ]
  },
  {
   "cell_type": "code",
   "execution_count": 4,
   "id": "4a22bca9",
   "metadata": {},
   "outputs": [
    {
     "data": {
      "text/plain": [
       "Sr No                  0\n",
       "Date                   0\n",
       "Startup Name           0\n",
       "Industry Vertical      0\n",
       "SubVertical            0\n",
       "City  Location         0\n",
       "Investors Name         2\n",
       "InvestmentnType        3\n",
       "Amount in USD          0\n",
       "Remarks              111\n",
       "Column1              110\n",
       "Column2              103\n",
       "Column3              103\n",
       "dtype: int64"
      ]
     },
     "execution_count": 4,
     "metadata": {},
     "output_type": "execute_result"
    }
   ],
   "source": [
    "df.isnull().sum()"
   ]
  },
  {
   "cell_type": "code",
   "execution_count": 5,
   "id": "382a0b85",
   "metadata": {},
   "outputs": [],
   "source": [
    "df.dropna(subset=[\"Investors Name\",\"InvestmentnType\"],axis=0,inplace=True)"
   ]
  },
  {
   "cell_type": "code",
   "execution_count": 6,
   "id": "9020a327",
   "metadata": {},
   "outputs": [],
   "source": [
    "df.drop([\"Remarks\",\"Column1\",\"Column2\",\"Column3\"],axis=1,inplace=True)"
   ]
  },
  {
   "cell_type": "code",
   "execution_count": 7,
   "id": "4221c21b",
   "metadata": {},
   "outputs": [
    {
     "data": {
      "text/plain": [
       "Sr No                0\n",
       "Date                 0\n",
       "Startup Name         0\n",
       "Industry Vertical    0\n",
       "SubVertical          0\n",
       "City  Location       0\n",
       "Investors Name       0\n",
       "InvestmentnType      0\n",
       "Amount in USD        0\n",
       "dtype: int64"
      ]
     },
     "execution_count": 7,
     "metadata": {},
     "output_type": "execute_result"
    }
   ],
   "source": [
    "df.isnull().sum()"
   ]
  },
  {
   "cell_type": "code",
   "execution_count": 15,
   "id": "c6055587",
   "metadata": {},
   "outputs": [
    {
     "data": {
      "text/html": [
       "<div>\n",
       "<style scoped>\n",
       "    .dataframe tbody tr th:only-of-type {\n",
       "        vertical-align: middle;\n",
       "    }\n",
       "\n",
       "    .dataframe tbody tr th {\n",
       "        vertical-align: top;\n",
       "    }\n",
       "\n",
       "    .dataframe thead th {\n",
       "        text-align: right;\n",
       "    }\n",
       "</style>\n",
       "<table border=\"1\" class=\"dataframe\">\n",
       "  <thead>\n",
       "    <tr style=\"text-align: right;\">\n",
       "      <th></th>\n",
       "      <th>Sr No</th>\n",
       "      <th>Date</th>\n",
       "      <th>Startup Name</th>\n",
       "      <th>Industry Vertical</th>\n",
       "      <th>SubVertical</th>\n",
       "      <th>City  Location</th>\n",
       "      <th>Investors Name</th>\n",
       "      <th>InvestmentnType</th>\n",
       "      <th>Amount in USD</th>\n",
       "    </tr>\n",
       "  </thead>\n",
       "  <tbody>\n",
       "  </tbody>\n",
       "</table>\n",
       "</div>"
      ],
      "text/plain": [
       "Empty DataFrame\n",
       "Columns: [Sr No, Date, Startup Name, Industry Vertical, SubVertical, City  Location, Investors Name, InvestmentnType, Amount in USD]\n",
       "Index: []"
      ]
     },
     "execution_count": 15,
     "metadata": {},
     "output_type": "execute_result"
    }
   ],
   "source": [
    "df[df['Amount in USD']=='Undisclosed']"
   ]
  },
  {
   "cell_type": "code",
   "execution_count": 108,
   "id": "a1893a24",
   "metadata": {},
   "outputs": [],
   "source": [
    "df['Amount in USD'].replace('Undisclosed','None',inplace=True)"
   ]
  },
  {
   "cell_type": "code",
   "execution_count": 9,
   "id": "e39fd4f2",
   "metadata": {},
   "outputs": [],
   "source": [
    "df.drop(labels=[44,107], axis=0,inplace=True)"
   ]
  },
  {
   "cell_type": "code",
   "execution_count": 10,
   "id": "c8843186",
   "metadata": {
    "scrolled": true
   },
   "outputs": [
    {
     "data": {
      "text/html": [
       "<div>\n",
       "<style scoped>\n",
       "    .dataframe tbody tr th:only-of-type {\n",
       "        vertical-align: middle;\n",
       "    }\n",
       "\n",
       "    .dataframe tbody tr th {\n",
       "        vertical-align: top;\n",
       "    }\n",
       "\n",
       "    .dataframe thead th {\n",
       "        text-align: right;\n",
       "    }\n",
       "</style>\n",
       "<table border=\"1\" class=\"dataframe\">\n",
       "  <thead>\n",
       "    <tr style=\"text-align: right;\">\n",
       "      <th></th>\n",
       "      <th>Sr No</th>\n",
       "      <th>Date</th>\n",
       "      <th>Startup Name</th>\n",
       "      <th>Industry Vertical</th>\n",
       "      <th>SubVertical</th>\n",
       "      <th>City  Location</th>\n",
       "      <th>Investors Name</th>\n",
       "      <th>InvestmentnType</th>\n",
       "      <th>Amount in USD</th>\n",
       "    </tr>\n",
       "  </thead>\n",
       "  <tbody>\n",
       "  </tbody>\n",
       "</table>\n",
       "</div>"
      ],
      "text/plain": [
       "Empty DataFrame\n",
       "Columns: [Sr No, Date, Startup Name, Industry Vertical, SubVertical, City  Location, Investors Name, InvestmentnType, Amount in USD]\n",
       "Index: []"
      ]
     },
     "execution_count": 10,
     "metadata": {},
     "output_type": "execute_result"
    }
   ],
   "source": [
    "df[df['Amount in USD']=='Undisclosed']"
   ]
  },
  {
   "cell_type": "code",
   "execution_count": 33,
   "id": "d0cd6f40",
   "metadata": {},
   "outputs": [],
   "source": [
    "df['Amount in USD']=pd.to_numeric(df['Amount in USD'],errors='coerce')"
   ]
  },
  {
   "cell_type": "code",
   "execution_count": 34,
   "id": "c63c9b51",
   "metadata": {},
   "outputs": [
    {
     "data": {
      "text/plain": [
       "Sr No                         int64\n",
       "Date                 datetime64[ns]\n",
       "Startup Name                 object\n",
       "Industry Vertical            object\n",
       "SubVertical                  object\n",
       "City  Location               object\n",
       "Investors Name               object\n",
       "InvestmentnType              object\n",
       "Amount in USD               float64\n",
       "dtype: object"
      ]
     },
     "execution_count": 34,
     "metadata": {},
     "output_type": "execute_result"
    }
   ],
   "source": [
    "df.dtypes"
   ]
  },
  {
   "cell_type": "code",
   "execution_count": 36,
   "id": "74e90591",
   "metadata": {},
   "outputs": [
    {
     "data": {
      "text/plain": [
       "94857895.25"
      ]
     },
     "execution_count": 36,
     "metadata": {},
     "output_type": "execute_result"
    }
   ],
   "source": [
    "df['Amount in USD'].mean()"
   ]
  },
  {
   "cell_type": "code",
   "execution_count": 40,
   "id": "903ff9cf",
   "metadata": {},
   "outputs": [
    {
     "data": {
      "text/html": [
       "<div>\n",
       "<style scoped>\n",
       "    .dataframe tbody tr th:only-of-type {\n",
       "        vertical-align: middle;\n",
       "    }\n",
       "\n",
       "    .dataframe tbody tr th {\n",
       "        vertical-align: top;\n",
       "    }\n",
       "\n",
       "    .dataframe thead th {\n",
       "        text-align: right;\n",
       "    }\n",
       "</style>\n",
       "<table border=\"1\" class=\"dataframe\">\n",
       "  <thead>\n",
       "    <tr style=\"text-align: right;\">\n",
       "      <th></th>\n",
       "      <th>Sr No</th>\n",
       "      <th>Date</th>\n",
       "      <th>Startup Name</th>\n",
       "      <th>Industry Vertical</th>\n",
       "      <th>SubVertical</th>\n",
       "      <th>City  Location</th>\n",
       "      <th>Investors Name</th>\n",
       "      <th>InvestmentnType</th>\n",
       "      <th>Amount in USD</th>\n",
       "    </tr>\n",
       "  </thead>\n",
       "  <tbody>\n",
       "    <tr>\n",
       "      <th>0</th>\n",
       "      <td>17</td>\n",
       "      <td>2019-12-20</td>\n",
       "      <td>Lenskart.com</td>\n",
       "      <td>E-Commerce</td>\n",
       "      <td>Online Eyewear Shopping Portal</td>\n",
       "      <td>Faridabad</td>\n",
       "      <td>SoftBank Vision Fund</td>\n",
       "      <td>Series G</td>\n",
       "      <td>231000000.0</td>\n",
       "    </tr>\n",
       "    <tr>\n",
       "      <th>1</th>\n",
       "      <td>12</td>\n",
       "      <td>2019-12-17</td>\n",
       "      <td>Healthians</td>\n",
       "      <td>B2B-focused foodtech startup</td>\n",
       "      <td>Food Solutions For Corporate</td>\n",
       "      <td>Bengaluru</td>\n",
       "      <td>Paytm, NPTK, Sabre Partners and Neoplux</td>\n",
       "      <td>Series C</td>\n",
       "      <td>12000000.0</td>\n",
       "    </tr>\n",
       "    <tr>\n",
       "      <th>2</th>\n",
       "      <td>13</td>\n",
       "      <td>2019-12-16</td>\n",
       "      <td>Licious</td>\n",
       "      <td>E-Commerce</td>\n",
       "      <td>Online Meat And Seafood Ordering Startup</td>\n",
       "      <td>Bengaluru</td>\n",
       "      <td>Vertex Growth Fund</td>\n",
       "      <td>Series E</td>\n",
       "      <td>30000000.0</td>\n",
       "    </tr>\n",
       "    <tr>\n",
       "      <th>4</th>\n",
       "      <td>15</td>\n",
       "      <td>2019-12-14</td>\n",
       "      <td>Trell</td>\n",
       "      <td>Video</td>\n",
       "      <td>Experience Discovery Platform</td>\n",
       "      <td>Bengaluru</td>\n",
       "      <td>Ruizheng Investment</td>\n",
       "      <td>Seed Round</td>\n",
       "      <td>2000000.0</td>\n",
       "    </tr>\n",
       "    <tr>\n",
       "      <th>5</th>\n",
       "      <td>11</td>\n",
       "      <td>2019-12-13</td>\n",
       "      <td>Rivigo</td>\n",
       "      <td>Technology</td>\n",
       "      <td>Logistics Services and Solutions</td>\n",
       "      <td>Gurgaon</td>\n",
       "      <td>SAIF Partners, Spring Canter Investment Ltd.</td>\n",
       "      <td>Series F</td>\n",
       "      <td>20000000.0</td>\n",
       "    </tr>\n",
       "  </tbody>\n",
       "</table>\n",
       "</div>"
      ],
      "text/plain": [
       "   Sr No       Date  Startup Name             Industry Vertical  \\\n",
       "0     17 2019-12-20  Lenskart.com                    E-Commerce   \n",
       "1     12 2019-12-17    Healthians  B2B-focused foodtech startup   \n",
       "2     13 2019-12-16       Licious                    E-Commerce   \n",
       "4     15 2019-12-14         Trell                         Video   \n",
       "5     11 2019-12-13        Rivigo                    Technology   \n",
       "\n",
       "                                SubVertical City  Location  \\\n",
       "0            Online Eyewear Shopping Portal      Faridabad   \n",
       "1              Food Solutions For Corporate      Bengaluru   \n",
       "2  Online Meat And Seafood Ordering Startup      Bengaluru   \n",
       "4             Experience Discovery Platform      Bengaluru   \n",
       "5          Logistics Services and Solutions        Gurgaon   \n",
       "\n",
       "                                 Investors Name InvestmentnType  Amount in USD  \n",
       "0                          SoftBank Vision Fund        Series G    231000000.0  \n",
       "1       Paytm, NPTK, Sabre Partners and Neoplux        Series C     12000000.0  \n",
       "2                            Vertex Growth Fund        Series E     30000000.0  \n",
       "4                           Ruizheng Investment      Seed Round      2000000.0  \n",
       "5  SAIF Partners, Spring Canter Investment Ltd.        Series F     20000000.0  "
      ]
     },
     "execution_count": 40,
     "metadata": {},
     "output_type": "execute_result"
    }
   ],
   "source": [
    "df.head()"
   ]
  },
  {
   "cell_type": "code",
   "execution_count": 43,
   "id": "e4a84d73",
   "metadata": {},
   "outputs": [],
   "source": [
    "#download file to correct speelling mistakes using excel\n",
    "df.to_csv(\"STARTUP FUNDING.csv\",index=False)"
   ]
  },
  {
   "cell_type": "code",
   "execution_count": 4,
   "id": "41d42763",
   "metadata": {},
   "outputs": [
    {
     "data": {
      "text/html": [
       "<div>\n",
       "<style scoped>\n",
       "    .dataframe tbody tr th:only-of-type {\n",
       "        vertical-align: middle;\n",
       "    }\n",
       "\n",
       "    .dataframe tbody tr th {\n",
       "        vertical-align: top;\n",
       "    }\n",
       "\n",
       "    .dataframe thead th {\n",
       "        text-align: right;\n",
       "    }\n",
       "</style>\n",
       "<table border=\"1\" class=\"dataframe\">\n",
       "  <thead>\n",
       "    <tr style=\"text-align: right;\">\n",
       "      <th></th>\n",
       "      <th>Sr No</th>\n",
       "      <th>Date</th>\n",
       "      <th>Startup Name</th>\n",
       "      <th>Industry Vertical</th>\n",
       "      <th>SubVertical</th>\n",
       "      <th>City  Location</th>\n",
       "      <th>Investors Name</th>\n",
       "      <th>InvestmentnType</th>\n",
       "      <th>Amount in USD</th>\n",
       "      <th>Unnamed: 9</th>\n",
       "      <th>Unnamed: 10</th>\n",
       "    </tr>\n",
       "  </thead>\n",
       "  <tbody>\n",
       "    <tr>\n",
       "      <th>0</th>\n",
       "      <td>1</td>\n",
       "      <td>11/11/2019</td>\n",
       "      <td>eBikeGo</td>\n",
       "      <td>Last Mile Transportation</td>\n",
       "      <td>Electric bike rental</td>\n",
       "      <td>Amritsar</td>\n",
       "      <td>Startup Buddy</td>\n",
       "      <td>Seed</td>\n",
       "      <td>$300,000.00</td>\n",
       "      <td>NaN</td>\n",
       "      <td>NaN</td>\n",
       "    </tr>\n",
       "    <tr>\n",
       "      <th>1</th>\n",
       "      <td>2</td>\n",
       "      <td>10/7/2019</td>\n",
       "      <td>Indus OS</td>\n",
       "      <td>Tech</td>\n",
       "      <td>Smartphone Operating System</td>\n",
       "      <td>Andheri</td>\n",
       "      <td>Ventureast</td>\n",
       "      <td>Series B</td>\n",
       "      <td>$5,750,000.00</td>\n",
       "      <td>NaN</td>\n",
       "      <td>NaN</td>\n",
       "    </tr>\n",
       "    <tr>\n",
       "      <th>2</th>\n",
       "      <td>3</td>\n",
       "      <td>17/12/2019</td>\n",
       "      <td>Healthians</td>\n",
       "      <td>B2B-focused foodies start-up</td>\n",
       "      <td>Food Solutions For Corporate</td>\n",
       "      <td>Bengaluru</td>\n",
       "      <td>Paytm, NPTK, Sabre Partners and Neoplux</td>\n",
       "      <td>Series C</td>\n",
       "      <td>$12,000,000.00</td>\n",
       "      <td>NaN</td>\n",
       "      <td>NaN</td>\n",
       "    </tr>\n",
       "    <tr>\n",
       "      <th>3</th>\n",
       "      <td>4</td>\n",
       "      <td>16/12/2019</td>\n",
       "      <td>Licious</td>\n",
       "      <td>E-Commerce</td>\n",
       "      <td>Online Meat And Seafood Ordering Startup</td>\n",
       "      <td>Bengaluru</td>\n",
       "      <td>Vertex Growth Fund</td>\n",
       "      <td>Series E</td>\n",
       "      <td>$30,000,000.00</td>\n",
       "      <td>NaN</td>\n",
       "      <td>NaN</td>\n",
       "    </tr>\n",
       "    <tr>\n",
       "      <th>4</th>\n",
       "      <td>5</td>\n",
       "      <td>14/12/2019</td>\n",
       "      <td>Trell</td>\n",
       "      <td>Video</td>\n",
       "      <td>Experience Discovery Platform</td>\n",
       "      <td>Bengaluru</td>\n",
       "      <td>Ruizheng Investment</td>\n",
       "      <td>Seed Round</td>\n",
       "      <td>$2,000,000.00</td>\n",
       "      <td>NaN</td>\n",
       "      <td>NaN</td>\n",
       "    </tr>\n",
       "  </tbody>\n",
       "</table>\n",
       "</div>"
      ],
      "text/plain": [
       "   Sr No        Date Startup Name             Industry Vertical  \\\n",
       "0      1  11/11/2019      eBikeGo      Last Mile Transportation   \n",
       "1      2   10/7/2019     Indus OS                          Tech   \n",
       "2      3  17/12/2019   Healthians  B2B-focused foodies start-up   \n",
       "3      4  16/12/2019      Licious                    E-Commerce   \n",
       "4      5  14/12/2019        Trell                         Video   \n",
       "\n",
       "                                SubVertical City  Location  \\\n",
       "0                      Electric bike rental       Amritsar   \n",
       "1               Smartphone Operating System        Andheri   \n",
       "2              Food Solutions For Corporate      Bengaluru   \n",
       "3  Online Meat And Seafood Ordering Startup      Bengaluru   \n",
       "4             Experience Discovery Platform      Bengaluru   \n",
       "\n",
       "                            Investors Name InvestmentnType   Amount in USD  \\\n",
       "0                            Startup Buddy            Seed     $300,000.00   \n",
       "1                               Ventureast        Series B   $5,750,000.00   \n",
       "2  Paytm, NPTK, Sabre Partners and Neoplux        Series C  $12,000,000.00   \n",
       "3                       Vertex Growth Fund        Series E  $30,000,000.00   \n",
       "4                      Ruizheng Investment      Seed Round   $2,000,000.00   \n",
       "\n",
       "   Unnamed: 9  Unnamed: 10  \n",
       "0         NaN          NaN  \n",
       "1         NaN          NaN  \n",
       "2         NaN          NaN  \n",
       "3         NaN          NaN  \n",
       "4         NaN          NaN  "
      ]
     },
     "execution_count": 4,
     "metadata": {},
     "output_type": "execute_result"
    }
   ],
   "source": [
    "file=\"STARTUP FUNDING.csv\"\n",
    "df=pd.read_csv(file)\n",
    "df.head()"
   ]
  },
  {
   "cell_type": "code",
   "execution_count": 5,
   "id": "5307f7b7",
   "metadata": {},
   "outputs": [
    {
     "name": "stderr",
     "output_type": "stream",
     "text": [
      "C:\\Users\\owner\\AppData\\Local\\Temp/ipykernel_15696/1117246286.py:1: FutureWarning: The default value of regex will change from True to False in a future version. In addition, single character regular expressions will *not* be treated as literal strings when regex=True.\n",
      "  df['Amount in USD'] = df['Amount in USD'].str.replace('$', '')\n"
     ]
    }
   ],
   "source": [
    "df['Amount in USD'] = df['Amount in USD'].str.replace('$', '')\n",
    "df['Amount in USD'] = df['Amount in USD'].str.replace(',', '')"
   ]
  },
  {
   "cell_type": "code",
   "execution_count": 6,
   "id": "6225fedc",
   "metadata": {},
   "outputs": [],
   "source": [
    "df.drop([\"Unnamed: 9\",\"Unnamed: 10\"],axis=1,inplace=True)"
   ]
  },
  {
   "cell_type": "code",
   "execution_count": 7,
   "id": "1d17d77e",
   "metadata": {},
   "outputs": [],
   "source": [
    "df['Amount in USD']=df['Amount in USD'].astype('float')"
   ]
  },
  {
   "cell_type": "code",
   "execution_count": 8,
   "id": "b4c57d65",
   "metadata": {},
   "outputs": [
    {
     "data": {
      "text/plain": [
       "Sr No                  int64\n",
       "Date                  object\n",
       "Startup Name          object\n",
       "Industry Vertical     object\n",
       "SubVertical           object\n",
       "City  Location        object\n",
       "Investors Name        object\n",
       "InvestmentnType       object\n",
       "Amount in USD        float64\n",
       "dtype: object"
      ]
     },
     "execution_count": 8,
     "metadata": {},
     "output_type": "execute_result"
    }
   ],
   "source": [
    "df.dtypes"
   ]
  },
  {
   "cell_type": "code",
   "execution_count": 9,
   "id": "5bad9c12",
   "metadata": {},
   "outputs": [
    {
     "data": {
      "text/html": [
       "<div>\n",
       "<style scoped>\n",
       "    .dataframe tbody tr th:only-of-type {\n",
       "        vertical-align: middle;\n",
       "    }\n",
       "\n",
       "    .dataframe tbody tr th {\n",
       "        vertical-align: top;\n",
       "    }\n",
       "\n",
       "    .dataframe thead th {\n",
       "        text-align: right;\n",
       "    }\n",
       "</style>\n",
       "<table border=\"1\" class=\"dataframe\">\n",
       "  <thead>\n",
       "    <tr style=\"text-align: right;\">\n",
       "      <th></th>\n",
       "      <th>Sr No</th>\n",
       "      <th>Date</th>\n",
       "      <th>Startup Name</th>\n",
       "      <th>Industry Vertical</th>\n",
       "      <th>SubVertical</th>\n",
       "      <th>City  Location</th>\n",
       "      <th>Investors Name</th>\n",
       "      <th>InvestmentnType</th>\n",
       "      <th>Amount in USD</th>\n",
       "    </tr>\n",
       "  </thead>\n",
       "  <tbody>\n",
       "    <tr>\n",
       "      <th>11</th>\n",
       "      <td>12</td>\n",
       "      <td>27/8/2019</td>\n",
       "      <td>Rapido Bike Taxi</td>\n",
       "      <td>Transportation</td>\n",
       "      <td>Bike Taxi</td>\n",
       "      <td>Bengaluru</td>\n",
       "      <td>Westbridge Capital</td>\n",
       "      <td>Series B</td>\n",
       "      <td>3.900000e+09</td>\n",
       "    </tr>\n",
       "    <tr>\n",
       "      <th>89</th>\n",
       "      <td>90</td>\n",
       "      <td>25/11/2019</td>\n",
       "      <td>Paytm</td>\n",
       "      <td>Intech</td>\n",
       "      <td>Mobile Wallet</td>\n",
       "      <td>Noida</td>\n",
       "      <td>Vijay Shekhar Sharma</td>\n",
       "      <td>Funding Round</td>\n",
       "      <td>1.000000e+09</td>\n",
       "    </tr>\n",
       "    <tr>\n",
       "      <th>8</th>\n",
       "      <td>9</td>\n",
       "      <td>2/10/2019</td>\n",
       "      <td>Udaan</td>\n",
       "      <td>B2B</td>\n",
       "      <td>Business development</td>\n",
       "      <td>Bengaluru</td>\n",
       "      <td>Altimeter Capital, DST Global</td>\n",
       "      <td>Series D</td>\n",
       "      <td>5.850000e+08</td>\n",
       "    </tr>\n",
       "    <tr>\n",
       "      <th>65</th>\n",
       "      <td>66</td>\n",
       "      <td>4/9/2019</td>\n",
       "      <td>GOQii</td>\n",
       "      <td>Health and Wellness</td>\n",
       "      <td>Wearable Fitness Bands</td>\n",
       "      <td>Menlo Park</td>\n",
       "      <td>Bennett Coleman and Company Ltd (BCCL)</td>\n",
       "      <td>Series C</td>\n",
       "      <td>4.500000e+08</td>\n",
       "    </tr>\n",
       "    <tr>\n",
       "      <th>63</th>\n",
       "      <td>64</td>\n",
       "      <td>15/11/2019</td>\n",
       "      <td>Vogo Automotive</td>\n",
       "      <td>Last Mile Transportation</td>\n",
       "      <td>Scooter sharing app</td>\n",
       "      <td>Kormangala</td>\n",
       "      <td>Matrix Partners, Stellaris Venture Partners, K...</td>\n",
       "      <td>Series B</td>\n",
       "      <td>2.830000e+08</td>\n",
       "    </tr>\n",
       "    <tr>\n",
       "      <th>39</th>\n",
       "      <td>40</td>\n",
       "      <td>20/12/2019</td>\n",
       "      <td>Lenskart.com</td>\n",
       "      <td>E-Commerce</td>\n",
       "      <td>Online Eyewear Shopping Portal</td>\n",
       "      <td>Faridabad</td>\n",
       "      <td>SoftBank Vision Fund</td>\n",
       "      <td>Series G</td>\n",
       "      <td>2.310000e+08</td>\n",
       "    </tr>\n",
       "    <tr>\n",
       "      <th>59</th>\n",
       "      <td>60</td>\n",
       "      <td>8/2/2019</td>\n",
       "      <td>Zilingo</td>\n",
       "      <td>E-Commerce</td>\n",
       "      <td>Fashion &amp; Apparel</td>\n",
       "      <td>India/Singapore</td>\n",
       "      <td>Sequoia Capital and Temasek Holdings, EDBI, Bu...</td>\n",
       "      <td>Series D</td>\n",
       "      <td>2.260000e+08</td>\n",
       "    </tr>\n",
       "    <tr>\n",
       "      <th>37</th>\n",
       "      <td>38</td>\n",
       "      <td>19/11/2019</td>\n",
       "      <td>Digital Mall Asia</td>\n",
       "      <td>E-Commerce</td>\n",
       "      <td>Virtual E-Commerce platform</td>\n",
       "      <td>Delhi</td>\n",
       "      <td>Amour Infrastructure</td>\n",
       "      <td>Seed Funding</td>\n",
       "      <td>2.200000e+08</td>\n",
       "    </tr>\n",
       "    <tr>\n",
       "      <th>15</th>\n",
       "      <td>16</td>\n",
       "      <td>10/7/2019</td>\n",
       "      <td>\"BYJU\\\\'S\"</td>\n",
       "      <td>Etch</td>\n",
       "      <td>Education</td>\n",
       "      <td>Bengaluru</td>\n",
       "      <td>Qatar Investment Authority</td>\n",
       "      <td>Private Equity Round</td>\n",
       "      <td>1.500000e+08</td>\n",
       "    </tr>\n",
       "    <tr>\n",
       "      <th>25</th>\n",
       "      <td>26</td>\n",
       "      <td>1/5/2019</td>\n",
       "      <td>BlackBuck</td>\n",
       "      <td>Transport</td>\n",
       "      <td>Logistics</td>\n",
       "      <td>Bengaluru</td>\n",
       "      <td>Goldman Sachs Investment Partners and Silicon ...</td>\n",
       "      <td>Series D</td>\n",
       "      <td>1.500000e+08</td>\n",
       "    </tr>\n",
       "  </tbody>\n",
       "</table>\n",
       "</div>"
      ],
      "text/plain": [
       "    Sr No        Date       Startup Name         Industry Vertical  \\\n",
       "11     12   27/8/2019   Rapido Bike Taxi            Transportation   \n",
       "89     90  25/11/2019              Paytm                    Intech   \n",
       "8       9   2/10/2019              Udaan                       B2B   \n",
       "65     66    4/9/2019              GOQii       Health and Wellness   \n",
       "63     64  15/11/2019    Vogo Automotive  Last Mile Transportation   \n",
       "39     40  20/12/2019       Lenskart.com                E-Commerce   \n",
       "59     60    8/2/2019            Zilingo                E-Commerce   \n",
       "37     38  19/11/2019  Digital Mall Asia                E-Commerce   \n",
       "15     16   10/7/2019         \"BYJU\\\\'S\"                      Etch   \n",
       "25     26    1/5/2019          BlackBuck                 Transport   \n",
       "\n",
       "                       SubVertical   City  Location  \\\n",
       "11                       Bike Taxi        Bengaluru   \n",
       "89                   Mobile Wallet            Noida   \n",
       "8             Business development        Bengaluru   \n",
       "65          Wearable Fitness Bands       Menlo Park   \n",
       "63             Scooter sharing app       Kormangala   \n",
       "39  Online Eyewear Shopping Portal        Faridabad   \n",
       "59               Fashion & Apparel  India/Singapore   \n",
       "37     Virtual E-Commerce platform            Delhi   \n",
       "15                       Education        Bengaluru   \n",
       "25                       Logistics        Bengaluru   \n",
       "\n",
       "                                       Investors Name       InvestmentnType  \\\n",
       "11                                 Westbridge Capital              Series B   \n",
       "89                               Vijay Shekhar Sharma         Funding Round   \n",
       "8                       Altimeter Capital, DST Global              Series D   \n",
       "65             Bennett Coleman and Company Ltd (BCCL)              Series C   \n",
       "63  Matrix Partners, Stellaris Venture Partners, K...              Series B   \n",
       "39                               SoftBank Vision Fund              Series G   \n",
       "59  Sequoia Capital and Temasek Holdings, EDBI, Bu...              Series D   \n",
       "37                               Amour Infrastructure          Seed Funding   \n",
       "15                         Qatar Investment Authority  Private Equity Round   \n",
       "25  Goldman Sachs Investment Partners and Silicon ...              Series D   \n",
       "\n",
       "    Amount in USD  \n",
       "11   3.900000e+09  \n",
       "89   1.000000e+09  \n",
       "8    5.850000e+08  \n",
       "65   4.500000e+08  \n",
       "63   2.830000e+08  \n",
       "39   2.310000e+08  \n",
       "59   2.260000e+08  \n",
       "37   2.200000e+08  \n",
       "15   1.500000e+08  \n",
       "25   1.500000e+08  "
      ]
     },
     "execution_count": 9,
     "metadata": {},
     "output_type": "execute_result"
    }
   ],
   "source": [
    "#Get top 10 largest top 10 Amount in USD\n",
    "df_top=df.nlargest(10, 'Amount in USD')\n",
    "df_top"
   ]
  },
  {
   "cell_type": "code",
   "execution_count": 10,
   "id": "be9c5d84",
   "metadata": {},
   "outputs": [],
   "source": [
    "import matplotlib as mpl\n",
    "import matplotlib.pyplot as plt"
   ]
  },
  {
   "cell_type": "code",
   "execution_count": 11,
   "id": "ee1e6ad3",
   "metadata": {
    "scrolled": true
   },
   "outputs": [
    {
     "data": {
      "text/html": [
       "<div>\n",
       "<style scoped>\n",
       "    .dataframe tbody tr th:only-of-type {\n",
       "        vertical-align: middle;\n",
       "    }\n",
       "\n",
       "    .dataframe tbody tr th {\n",
       "        vertical-align: top;\n",
       "    }\n",
       "\n",
       "    .dataframe thead th {\n",
       "        text-align: right;\n",
       "    }\n",
       "</style>\n",
       "<table border=\"1\" class=\"dataframe\">\n",
       "  <thead>\n",
       "    <tr style=\"text-align: right;\">\n",
       "      <th></th>\n",
       "      <th>Sr No</th>\n",
       "      <th>Amount in USD</th>\n",
       "    </tr>\n",
       "    <tr>\n",
       "      <th>City  Location</th>\n",
       "      <th></th>\n",
       "      <th></th>\n",
       "    </tr>\n",
       "  </thead>\n",
       "  <tbody>\n",
       "    <tr>\n",
       "      <th>Bengaluru</th>\n",
       "      <td>63</td>\n",
       "      <td>4.785000e+09</td>\n",
       "    </tr>\n",
       "    <tr>\n",
       "      <th>Delhi</th>\n",
       "      <td>38</td>\n",
       "      <td>2.200000e+08</td>\n",
       "    </tr>\n",
       "    <tr>\n",
       "      <th>Faridabad</th>\n",
       "      <td>40</td>\n",
       "      <td>2.310000e+08</td>\n",
       "    </tr>\n",
       "    <tr>\n",
       "      <th>India/Singapore</th>\n",
       "      <td>60</td>\n",
       "      <td>2.260000e+08</td>\n",
       "    </tr>\n",
       "    <tr>\n",
       "      <th>Kormangala</th>\n",
       "      <td>64</td>\n",
       "      <td>2.830000e+08</td>\n",
       "    </tr>\n",
       "    <tr>\n",
       "      <th>Menlo Park</th>\n",
       "      <td>66</td>\n",
       "      <td>4.500000e+08</td>\n",
       "    </tr>\n",
       "    <tr>\n",
       "      <th>Noida</th>\n",
       "      <td>90</td>\n",
       "      <td>1.000000e+09</td>\n",
       "    </tr>\n",
       "  </tbody>\n",
       "</table>\n",
       "</div>"
      ],
      "text/plain": [
       "                 Sr No  Amount in USD\n",
       "City  Location                       \n",
       "Bengaluru           63   4.785000e+09\n",
       "Delhi               38   2.200000e+08\n",
       "Faridabad           40   2.310000e+08\n",
       "India/Singapore     60   2.260000e+08\n",
       "Kormangala          64   2.830000e+08\n",
       "Menlo Park          66   4.500000e+08\n",
       "Noida               90   1.000000e+09"
      ]
     },
     "execution_count": 11,
     "metadata": {},
     "output_type": "execute_result"
    }
   ],
   "source": [
    "df_industry=df_top.groupby('City  Location').sum()\n",
    "df_industry"
   ]
  },
  {
   "cell_type": "code",
   "execution_count": 12,
   "id": "9bc86e97",
   "metadata": {},
   "outputs": [
    {
     "data": {
      "text/plain": [
       "Text(0, 0.5, 'Amount in USD')"
      ]
     },
     "execution_count": 12,
     "metadata": {},
     "output_type": "execute_result"
    },
    {
     "data": {
      "image/png": "[encoded data removed]",
      "text/plain": [
       "<Figure size 720x1080 with 1 Axes>"
      ]
     },
     "metadata": {},
     "output_type": "display_data"
    }
   ],
   "source": [
    "df_industry.plot(kind='pie',y='Amount in USD',figsize=(10,15),autopct='%1.1f%%',\n",
    "                startangle=90,labels=None,pctdistance=1.12)\n",
    "plt.title(\"TOP 10 AMOUNT OF INVESTMENT ACCORDING TO LOCATIONS\")\n",
    "plt.ylabel(\"Amount in USD\", size=14)"
   ]
  },
  {
   "cell_type": "code",
   "execution_count": 15,
   "id": "cc366938",
   "metadata": {},
   "outputs": [],
   "source": [
    "df_industry=df_top.groupby('Industry Vertical').sum()\n",
    "industry=df_industry.index\n",
    "amount=df_industry[\"Amount in USD\"]/10000000"
   ]
  },
  {
   "cell_type": "code",
   "execution_count": 18,
   "id": "95063a24",
   "metadata": {},
   "outputs": [
    {
     "name": "stderr",
     "output_type": "stream",
     "text": [
      "C:\\Users\\owner\\AppData\\Local\\Temp/ipykernel_15696/3225910307.py:13: MatplotlibDeprecationWarning: Case-insensitive properties were deprecated in 3.3 and support will be removed two minor releases later\n",
      "  plt.ylabel('INDUSTRY',SIZE=15)\n"
     ]
    },
    {
     "data": {
      "image/png": "[encoded data removed]",
      "text/plain": [
       "<Figure size 1080x720 with 1 Axes>"
      ]
     },
     "metadata": {},
     "output_type": "display_data"
    }
   ],
   "source": [
    "sns.set_style(\"dark\")\n",
    "\n",
    "plt.rcParams[\"figure.figsize\"] = (15, 10)\n",
    "New_Colors = ['green','blue','purple','brown','teal']\n",
    "\n",
    "plt.barh(industry, amount,color=New_Colors,)\n",
    "\n",
    "plt.xticks(rotation=30, horizontalalignment=\"center\",size=12)\n",
    "plt.yticks(size=12)\n",
    "\n",
    "plt.title('INDUSTRY VS AMOUNT IN USD')\n",
    "plt.xlabel('AMOUNT(USD) X10000000',size= 15)\n",
    "plt.ylabel('INDUSTRY',SIZE=15)\n",
    "\n",
    "for index, value in enumerate(amount):\n",
    "    plt.text(value, index,\n",
    "             str(value),fontweight = 'bold',size=15)\n",
    "\n",
    "plt.show()"
   ]
  },
  {
   "cell_type": "code",
   "execution_count": null,
   "id": "aea267cc",
   "metadata": {},
   "outputs": [],
   "source": []
  }
 ],
 "metadata": {
  "kernelspec": {
   "display_name": "Python 3 (ipykernel)",
   "language": "python",
   "name": "python3"
  },
  "language_info": {
   "codemirror_mode": {
    "name": "ipython",
    "version": 3
   },
   "file_extension": ".py",
   "mimetype": "text/x-python",
   "name": "python",
   "nbconvert_exporter": "python",
   "pygments_lexer": "ipython3",
   "version": "3.9.6"
  }
 },
 "nbformat": 4,
 "nbformat_minor": 5
}

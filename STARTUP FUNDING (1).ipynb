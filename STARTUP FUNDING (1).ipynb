{
 "cells": [
  {
   "cell_type": "code",
   "execution_count": 1,
   "id": "a7dc81a5",
   "metadata": {},
   "outputs": [],
   "source": [
    "import pandas as pd\n",
    "import numpy as np\n",
    "import seaborn as sns\n",
    "import matplotlib"
   ]
  },
  {
   "cell_type": "code",
   "execution_count": 2,
   "id": "5986e748",
   "metadata": {},
   "outputs": [],
   "source": [
    "file=\"indian_startup_funding_Lab7.xlsx\"\n",
    "df=pd.read_excel(file)"
   ]
  },
  {
   "cell_type": "code",
   "execution_count": 3,
   "id": "4eaa6643",
   "metadata": {},
   "outputs": [
    {
     "data": {
      "text/plain": [
       "0"
      ]
     },
     "execution_count": 3,
     "metadata": {},
     "output_type": "execute_result"
    }
   ],
   "source": [
    "df.duplicated(subset=None,keep='first').sum()"
   ]
  },
  {
   "cell_type": "code",
   "execution_count": 4,
   "id": "4a22bca9",
   "metadata": {},
   "outputs": [
    {
     "data": {
      "text/plain": [
       "Sr No                  0\n",
       "Date                   0\n",
       "Startup Name           0\n",
       "Industry Vertical      0\n",
       "SubVertical            0\n",
       "City  Location         0\n",
       "Investors Name         2\n",
       "InvestmentnType        3\n",
       "Amount in USD          0\n",
       "Remarks              111\n",
       "Column1              110\n",
       "Column2              103\n",
       "Column3              103\n",
       "dtype: int64"
      ]
     },
     "execution_count": 4,
     "metadata": {},
     "output_type": "execute_result"
    }
   ],
   "source": [
    "df.isnull().sum()"
   ]
  },
  {
   "cell_type": "code",
   "execution_count": 5,
   "id": "382a0b85",
   "metadata": {},
   "outputs": [],
   "source": [
    "df.dropna(subset=[\"Investors Name\",\"InvestmentnType\"],axis=0,inplace=True)"
   ]
  },
  {
   "cell_type": "code",
   "execution_count": 6,
   "id": "9020a327",
   "metadata": {},
   "outputs": [],
   "source": [
    "df.drop([\"Remarks\",\"Column1\",\"Column2\",\"Column3\"],axis=1,inplace=True)"
   ]
  },
  {
   "cell_type": "code",
   "execution_count": 9,
   "id": "4221c21b",
   "metadata": {},
   "outputs": [
    {
     "data": {
      "text/plain": [
       "Sr No                0\n",
       "Date                 0\n",
       "Startup Name         0\n",
       "Industry Vertical    0\n",
       "SubVertical          0\n",
       "City  Location       0\n",
       "Investors Name       0\n",
       "InvestmentnType      0\n",
       "Amount in USD        0\n",
       "dtype: int64"
      ]
     },
     "execution_count": 9,
     "metadata": {},
     "output_type": "execute_result"
    }
   ],
   "source": [
    "#Recheck if there is any other null values\n",
    "df.isnull().sum()"
   ]
  },
  {
   "cell_type": "code",
   "execution_count": 8,
   "id": "c6055587",
   "metadata": {},
   "outputs": [
    {
     "data": {
      "text/html": [
       "<div>\n",
       "<style scoped>\n",
       "    .dataframe tbody tr th:only-of-type {\n",
       "        vertical-align: middle;\n",
       "    }\n",
       "\n",
       "    .dataframe tbody tr th {\n",
       "        vertical-align: top;\n",
       "    }\n",
       "\n",
       "    .dataframe thead th {\n",
       "        text-align: right;\n",
       "    }\n",
       "</style>\n",
       "<table border=\"1\" class=\"dataframe\">\n",
       "  <thead>\n",
       "    <tr style=\"text-align: right;\">\n",
       "      <th></th>\n",
       "      <th>Sr No</th>\n",
       "      <th>Date</th>\n",
       "      <th>Startup Name</th>\n",
       "      <th>Industry Vertical</th>\n",
       "      <th>SubVertical</th>\n",
       "      <th>City  Location</th>\n",
       "      <th>Investors Name</th>\n",
       "      <th>InvestmentnType</th>\n",
       "      <th>Amount in USD</th>\n",
       "    </tr>\n",
       "  </thead>\n",
       "  <tbody>\n",
       "    <tr>\n",
       "      <th>44</th>\n",
       "      <td>59</td>\n",
       "      <td>2019-08-19</td>\n",
       "      <td>Mishry Reviews</td>\n",
       "      <td>Services</td>\n",
       "      <td>Product Review</td>\n",
       "      <td>Gurgaon</td>\n",
       "      <td>Vir Sanghvi</td>\n",
       "      <td>Series A</td>\n",
       "      <td>Undisclosed</td>\n",
       "    </tr>\n",
       "    <tr>\n",
       "      <th>107</th>\n",
       "      <td>113</td>\n",
       "      <td>2019-02-01</td>\n",
       "      <td>FleetX</td>\n",
       "      <td>AI</td>\n",
       "      <td>Logistics</td>\n",
       "      <td>Gurgaon</td>\n",
       "      <td>India Quotient and LetsVenture\\\\xe2\\\\x80\\\\x99s...</td>\n",
       "      <td>Pre Series A</td>\n",
       "      <td>Undisclosed</td>\n",
       "    </tr>\n",
       "  </tbody>\n",
       "</table>\n",
       "</div>"
      ],
      "text/plain": [
       "     Sr No       Date    Startup Name Industry Vertical     SubVertical  \\\n",
       "44      59 2019-08-19  Mishry Reviews          Services  Product Review   \n",
       "107    113 2019-02-01          FleetX                AI       Logistics   \n",
       "\n",
       "    City  Location                                     Investors Name  \\\n",
       "44         Gurgaon                                        Vir Sanghvi   \n",
       "107        Gurgaon  India Quotient and LetsVenture\\\\xe2\\\\x80\\\\x99s...   \n",
       "\n",
       "    InvestmentnType Amount in USD  \n",
       "44         Series A   Undisclosed  \n",
       "107    Pre Series A   Undisclosed  "
      ]
     },
     "execution_count": 8,
     "metadata": {},
     "output_type": "execute_result"
    }
   ],
   "source": [
    "df[df['Amount in USD']=='Undisclosed']"
   ]
  },
  {
   "cell_type": "code",
   "execution_count": 11,
   "id": "e39fd4f2",
   "metadata": {},
   "outputs": [],
   "source": [
    "df.drop(labels=[44,107], axis=0,inplace=True)"
   ]
  },
  {
   "cell_type": "code",
   "execution_count": 14,
   "id": "c8843186",
   "metadata": {
    "scrolled": true
   },
   "outputs": [
    {
     "data": {
      "text/html": [
       "<div>\n",
       "<style scoped>\n",
       "    .dataframe tbody tr th:only-of-type {\n",
       "        vertical-align: middle;\n",
       "    }\n",
       "\n",
       "    .dataframe tbody tr th {\n",
       "        vertical-align: top;\n",
       "    }\n",
       "\n",
       "    .dataframe thead th {\n",
       "        text-align: right;\n",
       "    }\n",
       "</style>\n",
       "<table border=\"1\" class=\"dataframe\">\n",
       "  <thead>\n",
       "    <tr style=\"text-align: right;\">\n",
       "      <th></th>\n",
       "      <th>Sr No</th>\n",
       "      <th>Date</th>\n",
       "      <th>Startup Name</th>\n",
       "      <th>Industry Vertical</th>\n",
       "      <th>SubVertical</th>\n",
       "      <th>City  Location</th>\n",
       "      <th>Investors Name</th>\n",
       "      <th>InvestmentnType</th>\n",
       "      <th>Amount in USD</th>\n",
       "    </tr>\n",
       "  </thead>\n",
       "  <tbody>\n",
       "  </tbody>\n",
       "</table>\n",
       "</div>"
      ],
      "text/plain": [
       "Empty DataFrame\n",
       "Columns: [Sr No, Date, Startup Name, Industry Vertical, SubVertical, City  Location, Investors Name, InvestmentnType, Amount in USD]\n",
       "Index: []"
      ]
     },
     "execution_count": 14,
     "metadata": {},
     "output_type": "execute_result"
    }
   ],
   "source": [
    "df[df['Amount in USD']=='Undisclosed']"
   ]
  },
  {
   "cell_type": "code",
   "execution_count": 15,
   "id": "d0cd6f40",
   "metadata": {},
   "outputs": [],
   "source": [
    "df['Amount in USD']=pd.to_numeric(df['Amount in USD'],errors='coerce')"
   ]
  },
  {
   "cell_type": "code",
   "execution_count": 16,
   "id": "c63c9b51",
   "metadata": {},
   "outputs": [
    {
     "data": {
      "text/plain": [
       "Sr No                         int64\n",
       "Date                 datetime64[ns]\n",
       "Startup Name                 object\n",
       "Industry Vertical            object\n",
       "SubVertical                  object\n",
       "City  Location               object\n",
       "Investors Name               object\n",
       "InvestmentnType              object\n",
       "Amount in USD               float64\n",
       "dtype: object"
      ]
     },
     "execution_count": 16,
     "metadata": {},
     "output_type": "execute_result"
    }
   ],
   "source": [
    "df.dtypes"
   ]
  },
  {
   "cell_type": "code",
   "execution_count": 17,
   "id": "74e90591",
   "metadata": {},
   "outputs": [
    {
     "data": {
      "text/plain": [
       "94857895.25"
      ]
     },
     "execution_count": 17,
     "metadata": {},
     "output_type": "execute_result"
    }
   ],
   "source": [
    "df['Amount in USD'].mean()"
   ]
  },
  {
   "cell_type": "code",
   "execution_count": 18,
   "id": "903ff9cf",
   "metadata": {},
   "outputs": [
    {
     "data": {
      "text/html": [
       "<div>\n",
       "<style scoped>\n",
       "    .dataframe tbody tr th:only-of-type {\n",
       "        vertical-align: middle;\n",
       "    }\n",
       "\n",
       "    .dataframe tbody tr th {\n",
       "        vertical-align: top;\n",
       "    }\n",
       "\n",
       "    .dataframe thead th {\n",
       "        text-align: right;\n",
       "    }\n",
       "</style>\n",
       "<table border=\"1\" class=\"dataframe\">\n",
       "  <thead>\n",
       "    <tr style=\"text-align: right;\">\n",
       "      <th></th>\n",
       "      <th>Sr No</th>\n",
       "      <th>Date</th>\n",
       "      <th>Startup Name</th>\n",
       "      <th>Industry Vertical</th>\n",
       "      <th>SubVertical</th>\n",
       "      <th>City  Location</th>\n",
       "      <th>Investors Name</th>\n",
       "      <th>InvestmentnType</th>\n",
       "      <th>Amount in USD</th>\n",
       "    </tr>\n",
       "  </thead>\n",
       "  <tbody>\n",
       "    <tr>\n",
       "      <th>0</th>\n",
       "      <td>17</td>\n",
       "      <td>2019-12-20</td>\n",
       "      <td>Lenskart.com</td>\n",
       "      <td>E-Commerce</td>\n",
       "      <td>Online Eyewear Shopping Portal</td>\n",
       "      <td>Faridabad</td>\n",
       "      <td>SoftBank Vision Fund</td>\n",
       "      <td>Series G</td>\n",
       "      <td>231000000.0</td>\n",
       "    </tr>\n",
       "    <tr>\n",
       "      <th>1</th>\n",
       "      <td>12</td>\n",
       "      <td>2019-12-17</td>\n",
       "      <td>Healthians</td>\n",
       "      <td>B2B-focused foodtech startup</td>\n",
       "      <td>Food Solutions For Corporate</td>\n",
       "      <td>Bengaluru</td>\n",
       "      <td>Paytm, NPTK, Sabre Partners and Neoplux</td>\n",
       "      <td>Series C</td>\n",
       "      <td>12000000.0</td>\n",
       "    </tr>\n",
       "    <tr>\n",
       "      <th>2</th>\n",
       "      <td>13</td>\n",
       "      <td>2019-12-16</td>\n",
       "      <td>Licious</td>\n",
       "      <td>E-Commerce</td>\n",
       "      <td>Online Meat And Seafood Ordering Startup</td>\n",
       "      <td>Bengaluru</td>\n",
       "      <td>Vertex Growth Fund</td>\n",
       "      <td>Series E</td>\n",
       "      <td>30000000.0</td>\n",
       "    </tr>\n",
       "    <tr>\n",
       "      <th>4</th>\n",
       "      <td>15</td>\n",
       "      <td>2019-12-14</td>\n",
       "      <td>Trell</td>\n",
       "      <td>Video</td>\n",
       "      <td>Experience Discovery Platform</td>\n",
       "      <td>Bengaluru</td>\n",
       "      <td>Ruizheng Investment</td>\n",
       "      <td>Seed Round</td>\n",
       "      <td>2000000.0</td>\n",
       "    </tr>\n",
       "    <tr>\n",
       "      <th>5</th>\n",
       "      <td>11</td>\n",
       "      <td>2019-12-13</td>\n",
       "      <td>Rivigo</td>\n",
       "      <td>Technology</td>\n",
       "      <td>Logistics Services and Solutions</td>\n",
       "      <td>Gurgaon</td>\n",
       "      <td>SAIF Partners, Spring Canter Investment Ltd.</td>\n",
       "      <td>Series F</td>\n",
       "      <td>20000000.0</td>\n",
       "    </tr>\n",
       "  </tbody>\n",
       "</table>\n",
       "</div>"
      ],
      "text/plain": [
       "   Sr No       Date  Startup Name             Industry Vertical  \\\n",
       "0     17 2019-12-20  Lenskart.com                    E-Commerce   \n",
       "1     12 2019-12-17    Healthians  B2B-focused foodtech startup   \n",
       "2     13 2019-12-16       Licious                    E-Commerce   \n",
       "4     15 2019-12-14         Trell                         Video   \n",
       "5     11 2019-12-13        Rivigo                    Technology   \n",
       "\n",
       "                                SubVertical City  Location  \\\n",
       "0            Online Eyewear Shopping Portal      Faridabad   \n",
       "1              Food Solutions For Corporate      Bengaluru   \n",
       "2  Online Meat And Seafood Ordering Startup      Bengaluru   \n",
       "4             Experience Discovery Platform      Bengaluru   \n",
       "5          Logistics Services and Solutions        Gurgaon   \n",
       "\n",
       "                                 Investors Name InvestmentnType  Amount in USD  \n",
       "0                          SoftBank Vision Fund        Series G    231000000.0  \n",
       "1       Paytm, NPTK, Sabre Partners and Neoplux        Series C     12000000.0  \n",
       "2                            Vertex Growth Fund        Series E     30000000.0  \n",
       "4                           Ruizheng Investment      Seed Round      2000000.0  \n",
       "5  SAIF Partners, Spring Canter Investment Ltd.        Series F     20000000.0  "
      ]
     },
     "execution_count": 18,
     "metadata": {},
     "output_type": "execute_result"
    }
   ],
   "source": [
    "df.head()"
   ]
  },
  {
   "cell_type": "code",
   "execution_count": 19,
   "id": "e4a84d73",
   "metadata": {},
   "outputs": [],
   "source": [
    "#Download file to correct speelling mistakes using excel\n",
    "\n",
    "df.to_csv(\"STARTUP FUNDING.csv\",index=False)"
   ]
  },
  {
   "cell_type": "code",
   "execution_count": 20,
   "id": "41d42763",
   "metadata": {},
   "outputs": [
    {
     "data": {
      "text/html": [
       "<div>\n",
       "<style scoped>\n",
       "    .dataframe tbody tr th:only-of-type {\n",
       "        vertical-align: middle;\n",
       "    }\n",
       "\n",
       "    .dataframe tbody tr th {\n",
       "        vertical-align: top;\n",
       "    }\n",
       "\n",
       "    .dataframe thead th {\n",
       "        text-align: right;\n",
       "    }\n",
       "</style>\n",
       "<table border=\"1\" class=\"dataframe\">\n",
       "  <thead>\n",
       "    <tr style=\"text-align: right;\">\n",
       "      <th></th>\n",
       "      <th>Sr No</th>\n",
       "      <th>Date</th>\n",
       "      <th>Startup Name</th>\n",
       "      <th>Industry Vertical</th>\n",
       "      <th>SubVertical</th>\n",
       "      <th>City  Location</th>\n",
       "      <th>Investors Name</th>\n",
       "      <th>InvestmentnType</th>\n",
       "      <th>Amount in USD</th>\n",
       "    </tr>\n",
       "  </thead>\n",
       "  <tbody>\n",
       "    <tr>\n",
       "      <th>0</th>\n",
       "      <td>17</td>\n",
       "      <td>2019-12-20</td>\n",
       "      <td>Lenskart.com</td>\n",
       "      <td>E-Commerce</td>\n",
       "      <td>Online Eyewear Shopping Portal</td>\n",
       "      <td>Faridabad</td>\n",
       "      <td>SoftBank Vision Fund</td>\n",
       "      <td>Series G</td>\n",
       "      <td>231000000.0</td>\n",
       "    </tr>\n",
       "    <tr>\n",
       "      <th>1</th>\n",
       "      <td>12</td>\n",
       "      <td>2019-12-17</td>\n",
       "      <td>Healthians</td>\n",
       "      <td>B2B-focused foodtech startup</td>\n",
       "      <td>Food Solutions For Corporate</td>\n",
       "      <td>Bengaluru</td>\n",
       "      <td>Paytm, NPTK, Sabre Partners and Neoplux</td>\n",
       "      <td>Series C</td>\n",
       "      <td>12000000.0</td>\n",
       "    </tr>\n",
       "    <tr>\n",
       "      <th>2</th>\n",
       "      <td>13</td>\n",
       "      <td>2019-12-16</td>\n",
       "      <td>Licious</td>\n",
       "      <td>E-Commerce</td>\n",
       "      <td>Online Meat And Seafood Ordering Startup</td>\n",
       "      <td>Bengaluru</td>\n",
       "      <td>Vertex Growth Fund</td>\n",
       "      <td>Series E</td>\n",
       "      <td>30000000.0</td>\n",
       "    </tr>\n",
       "    <tr>\n",
       "      <th>3</th>\n",
       "      <td>15</td>\n",
       "      <td>2019-12-14</td>\n",
       "      <td>Trell</td>\n",
       "      <td>Video</td>\n",
       "      <td>Experience Discovery Platform</td>\n",
       "      <td>Bengaluru</td>\n",
       "      <td>Ruizheng Investment</td>\n",
       "      <td>Seed Round</td>\n",
       "      <td>2000000.0</td>\n",
       "    </tr>\n",
       "    <tr>\n",
       "      <th>4</th>\n",
       "      <td>11</td>\n",
       "      <td>2019-12-13</td>\n",
       "      <td>Rivigo</td>\n",
       "      <td>Technology</td>\n",
       "      <td>Logistics Services and Solutions</td>\n",
       "      <td>Gurgaon</td>\n",
       "      <td>SAIF Partners, Spring Canter Investment Ltd.</td>\n",
       "      <td>Series F</td>\n",
       "      <td>20000000.0</td>\n",
       "    </tr>\n",
       "  </tbody>\n",
       "</table>\n",
       "</div>"
      ],
      "text/plain": [
       "   Sr No        Date  Startup Name             Industry Vertical  \\\n",
       "0     17  2019-12-20  Lenskart.com                    E-Commerce   \n",
       "1     12  2019-12-17    Healthians  B2B-focused foodtech startup   \n",
       "2     13  2019-12-16       Licious                    E-Commerce   \n",
       "3     15  2019-12-14         Trell                         Video   \n",
       "4     11  2019-12-13        Rivigo                    Technology   \n",
       "\n",
       "                                SubVertical City  Location  \\\n",
       "0            Online Eyewear Shopping Portal      Faridabad   \n",
       "1              Food Solutions For Corporate      Bengaluru   \n",
       "2  Online Meat And Seafood Ordering Startup      Bengaluru   \n",
       "3             Experience Discovery Platform      Bengaluru   \n",
       "4          Logistics Services and Solutions        Gurgaon   \n",
       "\n",
       "                                 Investors Name InvestmentnType  Amount in USD  \n",
       "0                          SoftBank Vision Fund        Series G    231000000.0  \n",
       "1       Paytm, NPTK, Sabre Partners and Neoplux        Series C     12000000.0  \n",
       "2                            Vertex Growth Fund        Series E     30000000.0  \n",
       "3                           Ruizheng Investment      Seed Round      2000000.0  \n",
       "4  SAIF Partners, Spring Canter Investment Ltd.        Series F     20000000.0  "
      ]
     },
     "execution_count": 20,
     "metadata": {},
     "output_type": "execute_result"
    }
   ],
   "source": [
    "file=\"STARTUP FUNDING.csv\"\n",
    "df=pd.read_csv(file)\n",
    "df.head()"
   ]
  },
  {
   "cell_type": "code",
   "execution_count": 22,
   "id": "1d17d77e",
   "metadata": {},
   "outputs": [],
   "source": [
    "df['Amount in USD']=df['Amount in USD'].astype('float')"
   ]
  },
  {
   "cell_type": "code",
   "execution_count": 23,
   "id": "b4c57d65",
   "metadata": {},
   "outputs": [
    {
     "data": {
      "text/plain": [
       "Sr No                  int64\n",
       "Date                  object\n",
       "Startup Name          object\n",
       "Industry Vertical     object\n",
       "SubVertical           object\n",
       "City  Location        object\n",
       "Investors Name        object\n",
       "InvestmentnType       object\n",
       "Amount in USD        float64\n",
       "dtype: object"
      ]
     },
     "execution_count": 23,
     "metadata": {},
     "output_type": "execute_result"
    }
   ],
   "source": [
    "df.dtypes"
   ]
  },
  {
   "cell_type": "code",
   "execution_count": 33,
   "id": "ca99218b",
   "metadata": {},
   "outputs": [],
   "source": [
    "df_locations=df.groupby('City  Location').sum()\n",
    "\n",
    "df_InVer=df.groupby('Industry Vertical').sum()"
   ]
  },
  {
   "cell_type": "code",
   "execution_count": 38,
   "id": "5bad9c12",
   "metadata": {},
   "outputs": [],
   "source": [
    "#Get top 10 largest top 10 Amount in USD according to locations\n",
    "df_top_location=df_locations.nlargest(10, 'Amount in USD')\n",
    "\n",
    "#Get top 10 largest top 10 Amount in USD according to industry\n",
    "df_industry=df_InVer.nlargest(10, 'Amount in USD')"
   ]
  },
  {
   "cell_type": "code",
   "execution_count": 35,
   "id": "be9c5d84",
   "metadata": {},
   "outputs": [],
   "source": [
    "import matplotlib as mpl\n",
    "import matplotlib.pyplot as plt"
   ]
  },
  {
   "cell_type": "code",
   "execution_count": 39,
   "id": "9bc86e97",
   "metadata": {},
   "outputs": [
    {
     "data": {
      "text/plain": [
       "Text(0, 0.5, 'Amount in USD')"
      ]
     },
     "execution_count": 39,
     "metadata": {},
     "output_type": "execute_result"
    },
    {
     "data": {
      "image/png": "[encoded data removed]",
      "text/plain": [
       "<Figure size 720x1080 with 1 Axes>"
      ]
     },
     "metadata": {},
     "output_type": "display_data"
    }
   ],
   "source": [
    "df_top_location.plot(kind='pie',y='Amount in USD',figsize=(10,15),autopct='%1.1f%%',\n",
    "                startangle=90,labels=None,pctdistance=1.12)\n",
    "plt.title(\"TOP 10 AMOUNT OF INVESTMENT ACCORDING TO LOCATIONS\")\n",
    "plt.ylabel(\"Amount in USD\", size=14)"
   ]
  },
  {
   "cell_type": "code",
   "execution_count": 46,
   "id": "5afcbf04",
   "metadata": {},
   "outputs": [],
   "source": [
    "industry=df_industry.index\n",
    "amount=df_industry[\"Amount in USD\"]/10000000"
   ]
  },
  {
   "cell_type": "code",
   "execution_count": 51,
   "id": "95063a24",
   "metadata": {},
   "outputs": [
    {
     "name": "stderr",
     "output_type": "stream",
     "text": [
      "C:\\Users\\owner\\AppData\\Local\\Temp/ipykernel_22640/2087721639.py:13: MatplotlibDeprecationWarning: Case-insensitive properties were deprecated in 3.3 and support will be removed two minor releases later\n",
      "  plt.ylabel('INDUSTRY',SIZE=15)\n"
     ]
    },
    {
     "data": {
      "image/png": "[encoded data removed]",
      "text/plain": [
       "<Figure size 1080x720 with 1 Axes>"
      ]
     },
     "metadata": {},
     "output_type": "display_data"
    }
   ],
   "source": [
    "sns.set_style(\"dark\")\n",
    "\n",
    "plt.rcParams[\"figure.figsize\"] = (15, 10)\n",
    "New_Colors = ['green','blue','purple','brown','teal']\n",
    "\n",
    "plt.barh(industry, amount,color=New_Colors,)\n",
    "\n",
    "plt.xticks(rotation=30, horizontalalignment=\"center\",size=15, fontweight = 'bold')\n",
    "plt.yticks(size=15, fontweight = 'bold')\n",
    "\n",
    "plt.title('INDUSTRY VS AMOUNT IN USD')\n",
    "plt.xlabel('AMOUNT(USD) X 10^7',size= 15)\n",
    "plt.ylabel('INDUSTRY',SIZE=15)\n",
    "\n",
    "for index, value in enumerate(amount):\n",
    "    plt.text(value, index,\n",
    "             str(value),fontweight = 'bold',size=15)\n",
    "\n",
    "plt.show()"
   ]
  }
 ],
 "metadata": {
  "kernelspec": {
   "display_name": "Python 3 (ipykernel)",
   "language": "python",
   "name": "python3"
  },
  "language_info": {
   "codemirror_mode": {
    "name": "ipython",
    "version": 3
   },
   "file_extension": ".py",
   "mimetype": "text/x-python",
   "name": "python",
   "nbconvert_exporter": "python",
   "pygments_lexer": "ipython3",
   "version": "3.9.6"
  }
 },
 "nbformat": 4,
 "nbformat_minor": 5
}
